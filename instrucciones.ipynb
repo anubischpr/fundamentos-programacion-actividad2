{
 "cells": [
  {
   "cell_type": "markdown",
   "metadata": {},
   "source": [
    "# Actividad 1"
   ]
  },
  {
   "cell_type": "markdown",
   "metadata": {},
   "source": [
    "## Instrucciones de instalación\n",
    "\n",
    "El presente archivo de instrucciones está en formato **Markdown**\n",
    "\n",
    "1. Desempaquetar la carpeta \"Actividad2.zip\".\n",
    "2. Abre una terminal de powershell o línea de comandos.\n",
    "3. Navega al directorio donde se encuentra la carpeta \"Actividad2\" para crear tu entorno virtual.\n",
    "4. Crear un ambiente virtual dentro de la carpeta de \"Actividad2\""
   ]
  },
  {
   "cell_type": "code",
   "execution_count": null,
   "metadata": {
    "vscode": {
     "languageId": "powershell"
    }
   },
   "outputs": [],
   "source": [
    "python -m venv venv"
   ]
  },
  {
   "cell_type": "markdown",
   "metadata": {},
   "source": [
    "5. Activa el entorno virtual desde Powershell (recomendado):\n"
   ]
  },
  {
   "cell_type": "code",
   "execution_count": null,
   "metadata": {
    "vscode": {
     "languageId": "powershell"
    }
   },
   "outputs": [],
   "source": [
    "\n",
    ".\\.venv\\Scripts\\Activate.ps1"
   ]
  },
  {
   "cell_type": "markdown",
   "metadata": {},
   "source": [
    "   o desde Commands:"
   ]
  },
  {
   "cell_type": "code",
   "execution_count": null,
   "metadata": {
    "vscode": {
     "languageId": "bat"
    }
   },
   "outputs": [],
   "source": [
    "\n",
    ".\\.venv\\Scripts\\activate\n"
   ]
  },
  {
   "cell_type": "markdown",
   "metadata": {},
   "source": [
    "6. Una vez activado el entorno virtual, ejecutar el comando:"
   ]
  },
  {
   "cell_type": "code",
   "execution_count": null,
   "metadata": {
    "vscode": {
     "languageId": "powershell"
    }
   },
   "outputs": [],
   "source": [
    "python solucion.py"
   ]
  },
  {
   "cell_type": "markdown",
   "metadata": {},
   "source": [
    "7. Para ejecutar los test unitarios basado en los casos del archivo \"gcd04t5act1.docx\" ejecutar el comando:"
   ]
  },
  {
   "cell_type": "code",
   "execution_count": null,
   "metadata": {
    "vscode": {
     "languageId": "powershell"
    }
   },
   "outputs": [],
   "source": [
    "python -m unittest discover tests"
   ]
  },
  {
   "cell_type": "markdown",
   "metadata": {},
   "source": [
    "# Análisis del problema\n",
    "El presente caso se puede descomponer en dos problemas principales:\n",
    "1. La creación de la clase Pila.\n",
    "2. La creación de la clase Cola.\n",
    "\n",
    "## Creación de la clase Pila\n",
    "En esta clase tendremos las siguientes funciones principales:\n",
    "1. es_vacio, evalúa si hay elementos dentro del objeto de la clase Pila.\n",
    "2. agregar, agrega un nuevo elemento al objeto de la clase Pila, haciendo uso de la función \"append\".\n",
    "3. eliminar, elimina un elemento seleccionado.\n",
    "4. extraer, se extra los elementos de la lista basado en las instrucciones del ejercicio.\n",
    "5. buscar, indica la posición del elemento de la lista.\n",
    "\n",
    "## Creación de la clase Cola\n",
    "En esta clase tendremos las siguientes funciones principales:\n",
    "1. es_vacio, evalúa si hay elementos dentro del objeto de la clase Cola.\n",
    "2. agregar, agrega un nuevo elemento al objeto de la clase Cola, haciendo uso de la función \"append\".\n",
    "3. eliminar, elimina un elemento seleccionado.\n",
    "4. extraer, se extra los elementos de la lista basado en las instrucciones del ejercicio.\n",
    "5. buscar, indica la posición del elemento de la lista.\n",
    "\n",
    "Asimismo, se ha creado el archivo \"pruebas.py\" en donde sistematizamos los ejemplos del documento de la actividad 2 para validar que obtenemos los mismos resultados.\n",
    "\n",
    "## Nota\n",
    "A modo de práctica personal, estoy agregando los tests unitarios basado en las casuísticas del documento de ejercicios \"gcd04t7lab\"."
   ]
  }
 ],
 "metadata": {
  "language_info": {
   "name": "python"
  }
 },
 "nbformat": 4,
 "nbformat_minor": 2
}
